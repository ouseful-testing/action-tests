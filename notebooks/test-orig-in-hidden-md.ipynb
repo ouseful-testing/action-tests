{
 "cells": [
  {
   "cell_type": "markdown",
   "id": "packed-stomach",
   "metadata": {},
   "source": [
    "# Test\n",
    "\n",
    "Text\n",
    "\n",
    "JUST ADDED NOW TEST"
   ]
  },
  {
   "cell_type": "markdown",
   "id": "43a2c233",
   "metadata": {},
   "source": [
    "ADDED 27"
   ]
  }
 ],
 "metadata": {
  "jupytext": {
   "cell_metadata_filter": "-all",
   "formats": "ipynb,.md//md",
   "main_language": "python"
  }
 },
 "nbformat": 4,
 "nbformat_minor": 5
}
