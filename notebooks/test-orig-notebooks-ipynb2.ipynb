{
 "cells": [
  {
   "cell_type": "markdown",
   "id": "2bef5b62",
   "metadata": {},
   "source": [
    "sdsds\n",
    "\n",
    "\n",
    "NOTEBOOK MOD"
   ]
  }
 ],
 "metadata": {
  "jupytext": {
   "formats": "ipynb,.md//md",
   "main_language": "python"
  }
 },
 "nbformat": 4,
 "nbformat_minor": 5
}